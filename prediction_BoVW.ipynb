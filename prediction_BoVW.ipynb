{
 "cells": [
  {
   "cell_type": "code",
   "execution_count": null,
   "metadata": {},
   "outputs": [
    {
     "ename": "ModuleNotFoundError",
     "evalue": "No module named 'sklearn'",
     "output_type": "error",
     "traceback": [
      "\u001b[1;31m---------------------------------------------------------------------------\u001b[0m",
      "\u001b[1;31mModuleNotFoundError\u001b[0m                       Traceback (most recent call last)",
      "\u001b[1;32mc:\\Users\\benoi\\OneDrive\\Documenten\\Vakken 3ICT Sem1\\Bachelorproef\\BP_HousePricePrediction\\prediction_BoVW.ipynb Cell 1'\u001b[0m in \u001b[0;36m<cell line: 2>\u001b[1;34m()\u001b[0m\n\u001b[0;32m      <a href='vscode-notebook-cell:/c%3A/Users/benoi/OneDrive/Documenten/Vakken%203ICT%20Sem1/Bachelorproef/BP_HousePricePrediction/prediction_BoVW.ipynb#ch0000000?line=0'>1</a>\u001b[0m \u001b[39m# import the necessary packages\u001b[39;00m\n\u001b[1;32m----> <a href='vscode-notebook-cell:/c%3A/Users/benoi/OneDrive/Documenten/Vakken%203ICT%20Sem1/Bachelorproef/BP_HousePricePrediction/prediction_BoVW.ipynb#ch0000000?line=1'>2</a>\u001b[0m \u001b[39mfrom\u001b[39;00m \u001b[39msklearn\u001b[39;00m\u001b[39m.\u001b[39;00m\u001b[39mpreprocessing\u001b[39;00m \u001b[39mimport\u001b[39;00m LabelBinarizer\n\u001b[0;32m      <a href='vscode-notebook-cell:/c%3A/Users/benoi/OneDrive/Documenten/Vakken%203ICT%20Sem1/Bachelorproef/BP_HousePricePrediction/prediction_BoVW.ipynb#ch0000000?line=2'>3</a>\u001b[0m \u001b[39mfrom\u001b[39;00m \u001b[39msklearn\u001b[39;00m\u001b[39m.\u001b[39;00m\u001b[39mpreprocessing\u001b[39;00m \u001b[39mimport\u001b[39;00m MinMaxScaler\n\u001b[0;32m      <a href='vscode-notebook-cell:/c%3A/Users/benoi/OneDrive/Documenten/Vakken%203ICT%20Sem1/Bachelorproef/BP_HousePricePrediction/prediction_BoVW.ipynb#ch0000000?line=3'>4</a>\u001b[0m \u001b[39mimport\u001b[39;00m \u001b[39mpandas\u001b[39;00m \u001b[39mas\u001b[39;00m \u001b[39mpd\u001b[39;00m\n",
      "\u001b[1;31mModuleNotFoundError\u001b[0m: No module named 'sklearn'"
     ]
    }
   ],
   "source": [
    "# import the necessary packages\n",
    "from sklearn.preprocessing import LabelBinarizer\n",
    "from sklearn.preprocessing import MinMaxScaler\n",
    "import pandas as pd\n",
    "import numpy as np\n",
    "import glob\n",
    "import cv2\n",
    "import os\n",
    "\n",
    "def load_house_images(df, inputPath):\n",
    "\n",
    "    images = []\n",
    "    for i in df.index.values:\n",
    "        # sorteren van foto's in juiste volgorde per pand\n",
    "        prefix =  \"/pand_{}\".format(i + 1)\n",
    "        basePath = os.path.sep.join([inputPath, prefix])\n",
    "        print(basePath)\n",
    "        housePaths = sorted([basePath + \".jpg\"] + glob.glob(basePath + \"_*\"))\n",
    "        # creatie matrix die image data van huizen zal bevatten.\n",
    "        inputImages = []\n",
    "        outputImage = np.zeros((64, 32, 3), dtype=\"uint8\")\n",
    "\n",
    "        # loop over the input house paths\n",
    "        for housePath in housePaths:\n",
    "            print(housePath)\n",
    "            # load the input image, resize it to be 32 32, and then\n",
    "            # update the list of input images\n",
    "            image = cv2.imread(housePath)\n",
    "            image = cv2.resize(image, (32, 32))\n",
    "            inputImages.append(image)\n",
    "        # afbeeldingen van panden (per 2) boven elkaar plaatsen zodat die als geheel door het model getrained kunnen worden\n",
    "        outputImage[0:32, 0:32] = inputImages[0]\n",
    "        outputImage[32:64, 0:32] = inputImages[1]\n",
    "\n",
    "\n",
    "        # toevoegen van alle tiled images in array waarop model getrained zal worden\n",
    "        images.append(outputImage)\n",
    "        \n",
    "\n",
    "        #from matplotlib import pyplot as plt\n",
    "        #plt.imshow(images[0], interpolation='nearest')\n",
    "        #plt.show()\n",
    "        #break\n",
    "    \n",
    "    \n",
    "    return np.array(images)"
   ]
  }
 ],
 "metadata": {
  "interpreter": {
   "hash": "b35c67f0452e21b13004ddf275f01aef3a9e9b66c372e8589b8b76ecdb839c46"
  },
  "kernelspec": {
   "display_name": "Python 3.10.4 ('.venv': venv)",
   "language": "python",
   "name": "python3"
  },
  "language_info": {
   "codemirror_mode": {
    "name": "ipython",
    "version": 3
   },
   "file_extension": ".py",
   "mimetype": "text/x-python",
   "name": "python",
   "nbconvert_exporter": "python",
   "pygments_lexer": "ipython3",
   "version": "3.10.4"
  },
  "orig_nbformat": 4
 },
 "nbformat": 4,
 "nbformat_minor": 2
}
