{
 "cells": [
  {
   "cell_type": "code",
   "execution_count": null,
   "metadata": {},
   "outputs": [],
   "source": [
    "# import the necessary packages\n",
    "from sklearn.preprocessing import LabelBinarizer\n",
    "from sklearn.preprocessing import MinMaxScaler\n",
    "import pandas as pd\n",
    "import numpy as np\n",
    "import glob\n",
    "import cv2\n",
    "import os\n",
    "\n",
    "def load_house_images(df, inputPath):\n",
    "\n",
    "    images = []\n",
    "    for i in df.index.values:\n",
    "        # sorteren van foto's in juiste volgorde per pand\n",
    "        prefix =  \"/pand_{}\".format(i + 1)\n",
    "        basePath = os.path.sep.join([inputPath, prefix])\n",
    "        print(basePath)\n",
    "        housePaths = sorted([basePath + \".jpg\"] + glob.glob(basePath + \"_*\"))\n",
    "        # creatie matrix die image data van huizen zal bevatten.\n",
    "        inputImages = []\n",
    "        outputImage = np.zeros((64, 32, 3), dtype=\"uint8\")\n",
    "\n",
    "        # loop over the input house paths\n",
    "        for housePath in housePaths:\n",
    "            print(housePath)\n",
    "            # load the input image, resize it to be 32 32, and then\n",
    "            # update the list of input images\n",
    "            image = cv2.imread(housePath)\n",
    "            image = cv2.resize(image, (32, 32))\n",
    "            inputImages.append(image)\n",
    "        # afbeeldingen van panden (per 2) boven elkaar plaatsen zodat die als geheel door het model getrained kunnen worden\n",
    "        outputImage[0:32, 0:32] = inputImages[0]\n",
    "        outputImage[32:64, 0:32] = inputImages[1]\n",
    "\n",
    "\n",
    "        # toevoegen van alle tiled images in array waarop model getrained zal worden\n",
    "        images.append(outputImage)\n",
    "        \n",
    "\n",
    "        #from matplotlib import pyplot as plt\n",
    "        #plt.imshow(images[0], interpolation='nearest')\n",
    "        #plt.show()\n",
    "        #break\n",
    "    \n",
    "    \n",
    "    return np.array(images)"
   ]
  }
 ],
 "metadata": {
  "language_info": {
   "name": "python"
  },
  "orig_nbformat": 4
 },
 "nbformat": 4,
 "nbformat_minor": 2
}
